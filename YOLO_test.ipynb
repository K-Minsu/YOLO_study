{
  "nbformat": 4,
  "nbformat_minor": 0,
  "metadata": {
    "colab": {
      "provenance": [],
      "gpuType": "T4"
    },
    "kernelspec": {
      "name": "python3",
      "display_name": "Python 3"
    },
    "language_info": {
      "name": "python"
    },
    "accelerator": "GPU"
  },
  "cells": [
    {
      "cell_type": "code",
      "source": [
        "# -------------------- 1. Google Drive 마운트 --------------------\n",
        "from google.colab import drive\n",
        "drive.mount('/content/drive')"
      ],
      "metadata": {
        "colab": {
          "base_uri": "https://localhost:8080/"
        },
        "id": "qX-CX94n70M1",
        "outputId": "955312aa-38f4-4b86-fef4-1cfae6ae762e"
      },
      "execution_count": null,
      "outputs": [
        {
          "output_type": "stream",
          "name": "stdout",
          "text": [
            "Mounted at /content/drive\n"
          ]
        }
      ]
    },
    {
      "cell_type": "code",
      "source": [
        "# -------------------- 2. 필요한 라이브러리 설치 --------------------\n",
        "!pip install ultralytics -q\n",
        "!pip install deep_sort_realtime -q"
      ],
      "metadata": {
        "colab": {
          "base_uri": "https://localhost:8080/"
        },
        "id": "eSyfFHyc72i_",
        "outputId": "6c0d8d31-d2be-4ef0-867b-956874ba4bfd"
      },
      "execution_count": null,
      "outputs": [
        {
          "output_type": "stream",
          "name": "stdout",
          "text": [
            "\u001b[2K   \u001b[90m━━━━━━━━━━━━━━━━━━━━━━━━━━━━━━━━━━━━━━━━\u001b[0m \u001b[32m1.0/1.0 MB\u001b[0m \u001b[31m35.5 MB/s\u001b[0m eta \u001b[36m0:00:00\u001b[0m\n",
            "\u001b[2K   \u001b[90m━━━━━━━━━━━━━━━━━━━━━━━━━━━━━━━━━━━━━━━━\u001b[0m \u001b[32m363.4/363.4 MB\u001b[0m \u001b[31m4.4 MB/s\u001b[0m eta \u001b[36m0:00:00\u001b[0m\n",
            "\u001b[2K   \u001b[90m━━━━━━━━━━━━━━━━━━━━━━━━━━━━━━━━━━━━━━━━\u001b[0m \u001b[32m13.8/13.8 MB\u001b[0m \u001b[31m106.9 MB/s\u001b[0m eta \u001b[36m0:00:00\u001b[0m\n",
            "\u001b[2K   \u001b[90m━━━━━━━━━━━━━━━━━━━━━━━━━━━━━━━━━━━━━━━━\u001b[0m \u001b[32m24.6/24.6 MB\u001b[0m \u001b[31m99.7 MB/s\u001b[0m eta \u001b[36m0:00:00\u001b[0m\n",
            "\u001b[2K   \u001b[90m━━━━━━━━━━━━━━━━━━━━━━━━━━━━━━━━━━━━━━━━\u001b[0m \u001b[32m883.7/883.7 kB\u001b[0m \u001b[31m58.7 MB/s\u001b[0m eta \u001b[36m0:00:00\u001b[0m\n",
            "\u001b[2K   \u001b[90m━━━━━━━━━━━━━━━━━━━━━━━━━━━━━━━━━━━━━━━━\u001b[0m \u001b[32m664.8/664.8 MB\u001b[0m \u001b[31m1.1 MB/s\u001b[0m eta \u001b[36m0:00:00\u001b[0m\n",
            "\u001b[2K   \u001b[90m━━━━━━━━━━━━━━━━━━━━━━━━━━━━━━━━━━━━━━━━\u001b[0m \u001b[32m211.5/211.5 MB\u001b[0m \u001b[31m6.2 MB/s\u001b[0m eta \u001b[36m0:00:00\u001b[0m\n",
            "\u001b[2K   \u001b[90m━━━━━━━━━━━━━━━━━━━━━━━━━━━━━━━━━━━━━━━━\u001b[0m \u001b[32m56.3/56.3 MB\u001b[0m \u001b[31m13.3 MB/s\u001b[0m eta \u001b[36m0:00:00\u001b[0m\n",
            "\u001b[2K   \u001b[90m━━━━━━━━━━━━━━━━━━━━━━━━━━━━━━━━━━━━━━━━\u001b[0m \u001b[32m127.9/127.9 MB\u001b[0m \u001b[31m7.5 MB/s\u001b[0m eta \u001b[36m0:00:00\u001b[0m\n",
            "\u001b[2K   \u001b[90m━━━━━━━━━━━━━━━━━━━━━━━━━━━━━━━━━━━━━━━━\u001b[0m \u001b[32m207.5/207.5 MB\u001b[0m \u001b[31m5.3 MB/s\u001b[0m eta \u001b[36m0:00:00\u001b[0m\n",
            "\u001b[2K   \u001b[90m━━━━━━━━━━━━━━━━━━━━━━━━━━━━━━━━━━━━━━━━\u001b[0m \u001b[32m21.1/21.1 MB\u001b[0m \u001b[31m106.5 MB/s\u001b[0m eta \u001b[36m0:00:00\u001b[0m\n",
            "\u001b[2K   \u001b[90m━━━━━━━━━━━━━━━━━━━━━━━━━━━━━━━━━━━━━━━━\u001b[0m \u001b[32m8.4/8.4 MB\u001b[0m \u001b[31m87.5 MB/s\u001b[0m eta \u001b[36m0:00:00\u001b[0m\n",
            "\u001b[?25h"
          ]
        }
      ]
    },
    {
      "cell_type": "code",
      "execution_count": null,
      "metadata": {
        "colab": {
          "base_uri": "https://localhost:8080/"
        },
        "id": "XJTcKnrq7lqo",
        "outputId": "e214fc01-69c7-4591-e0ea-659b3bfc98de"
      },
      "outputs": [
        {
          "output_type": "stream",
          "name": "stdout",
          "text": [
            "✅ 영상 종료 또는 프레임 없음\n",
            "🎬 탐지 완료. 결과 저장 위치: /content/drive/MyDrive/YOLO_safety/output_test_video.mp4\n"
          ]
        }
      ],
      "source": [
        "# -------------------- 3. 라이브러리 임포트 --------------------\n",
        "import cv2\n",
        "import time\n",
        "import numpy as np\n",
        "import os\n",
        "import torch\n",
        "from ultralytics import YOLO\n",
        "from deep_sort_realtime.deepsort_tracker import DeepSort\n",
        "\n",
        "# -------------------- 4. 설정 --------------------\n",
        "# 모델과 영상 경로 (Google Drive 기준)\n",
        "MODEL_PATH = \"/content/drive/MyDrive/YOLO_safety/runs/helmet_detect_exp18/weights/best.pt\"\n",
        "VIDEO_PATH = \"/content/drive/MyDrive/YOLO_safety/test_video.mp4\"\n",
        "OUTPUT_VIDEO_PATH = \"/content/drive/MyDrive/YOLO_safety/output_test_video.mp4\"\n",
        "\n",
        "# 클래스 정보 (YOLO 학습 시 정의한 순서에 맞게 수정)\n",
        "CLASS_NAMES = {\n",
        "    0: \"seatbelt_on\",\n",
        "    1: \"seatbelt_off\",\n",
        "    2: \"lanyard_on\",\n",
        "    3: \"lanyard_off\",\n",
        "    4: \"helmet_on\",\n",
        "    5: \"helmet_off\",\n",
        "}\n",
        "\n",
        "# 클래스별 색상 정의 (선택)\n",
        "CLASS_COLORS = {\n",
        "    0: (0, 255, 0),       # seatbelt_on → 초록\n",
        "    1: (0, 0, 255),       # seatbelt_off → 빨강\n",
        "    2: (255, 255, 0),     # lanyard_on → 노랑\n",
        "    3: (0, 255, 255),     # lanyard_off → 청록\n",
        "    4: (255, 0, 255),     # helmet_on → 보라\n",
        "    5: (255, 0, 0),       # helmet_off → 파랑\n",
        "}\n",
        "\n",
        "CONF_THRESHOLD = 0.3  # 탐지 신뢰도 기준\n",
        "\n",
        "# -------------------- 5. 모델 및 비디오 초기화 --------------------\n",
        "model = YOLO(MODEL_PATH)\n",
        "cap = cv2.VideoCapture(VIDEO_PATH)\n",
        "\n",
        "if not cap.isOpened():\n",
        "    raise IOError(\"🚨 비디오를 열 수 없습니다. 경로를 확인하세요.\")\n",
        "\n",
        "width = int(cap.get(cv2.CAP_PROP_FRAME_WIDTH))\n",
        "height = int(cap.get(cv2.CAP_PROP_FRAME_HEIGHT))\n",
        "fps = cap.get(cv2.CAP_PROP_FPS)\n",
        "\n",
        "video_writer = cv2.VideoWriter(\n",
        "    OUTPUT_VIDEO_PATH,\n",
        "    cv2.VideoWriter_fourcc(*'mp4v'),\n",
        "    fps,\n",
        "    (width, height)\n",
        ")\n",
        "\n",
        "# -------------------- 6. DeepSORT 추적기 초기화 --------------------\n",
        "use_gpu = torch.cuda.is_available()\n",
        "tracker = DeepSort(\n",
        "    max_age=5,\n",
        "    embedder='mobilenet',\n",
        "    half=True,\n",
        "    bgr=True,\n",
        "    embedder_gpu=use_gpu\n",
        ")\n",
        "\n",
        "# -------------------- 7. 유틸 함수: 박스 그리기 --------------------\n",
        "def draw_box(frame, bbox, track_id, cls_id):\n",
        "    label = CLASS_NAMES.get(cls_id, f'class_{cls_id}')\n",
        "    color = CLASS_COLORS.get(cls_id, (255, 255, 255))  # 기본: 흰색\n",
        "    x1, y1, x2, y2 = map(int, bbox)\n",
        "    cv2.rectangle(frame, (x1, y1), (x2, y2), color, 2)\n",
        "    cv2.putText(frame, f'{label} ID:{track_id}', (x1, y1 - 10),\n",
        "                cv2.FONT_HERSHEY_SIMPLEX, 0.6, color, 2)\n",
        "\n",
        "# -------------------- 8. 메인 처리 루프 --------------------\n",
        "frame_count = 0\n",
        "start_time = time.time()\n",
        "\n",
        "while cap.isOpened():\n",
        "    ret, frame = cap.read()\n",
        "    if not ret:\n",
        "        print(\"✅ 영상 종료 또는 프레임 없음\")\n",
        "        break\n",
        "\n",
        "    # YOLO 탐지\n",
        "    results = model.predict(frame, conf=CONF_THRESHOLD, verbose=False)[0]\n",
        "\n",
        "    # 탐지 결과에서 bbox, conf, class 추출\n",
        "    detections = []\n",
        "    for box, conf, cls in zip(results.boxes.xyxy, results.boxes.conf, results.boxes.cls):\n",
        "        x1, y1, x2, y2 = map(int, box)\n",
        "        detections.append([[x1, y1, x2 - x1, y2 - y1], float(conf), int(cls)])\n",
        "\n",
        "    # DeepSORT로 추적\n",
        "    tracks = tracker.update_tracks(detections, frame=frame)\n",
        "\n",
        "    # 박스 및 추적 ID 표시\n",
        "    for track in tracks:\n",
        "        if not track.is_confirmed():\n",
        "            continue\n",
        "        tid = track.track_id\n",
        "        bbox = track.to_ltrb()  # [x1, y1, x2, y2]\n",
        "        cls_id = int(track.det_class)\n",
        "        draw_box(frame, bbox, tid, cls_id)\n",
        "\n",
        "    # FPS 표시\n",
        "    frame_count += 1\n",
        "    elapsed = time.time() - start_time\n",
        "    fps_now = frame_count / elapsed\n",
        "    cv2.putText(frame, f\"FPS: {fps_now:.2f}\", (20, 40),\n",
        "                cv2.FONT_HERSHEY_SIMPLEX, 1, (255, 255, 0), 2)\n",
        "\n",
        "    # 영상 저장\n",
        "    video_writer.write(frame)\n",
        "\n",
        "# -------------------- 9. 종료 --------------------\n",
        "cap.release()\n",
        "video_writer.release()\n",
        "cv2.destroyAllWindows()\n",
        "\n",
        "print(f\"🎬 탐지 완료. 결과 저장 위치: {OUTPUT_VIDEO_PATH}\")\n"
      ]
    },
    {
      "cell_type": "code",
      "source": [
        "print(model.names)"
      ],
      "metadata": {
        "colab": {
          "base_uri": "https://localhost:8080/"
        },
        "id": "4r7xID2uACWD",
        "outputId": "1d72bff2-e131-4176-a712-8e9edcb8e0cf"
      },
      "execution_count": null,
      "outputs": [
        {
          "output_type": "stream",
          "name": "stdout",
          "text": [
            "{0: 'seatbelt_on', 1: 'seatbelt_off', 2: 'lanyard_on', 3: 'lanyard_off', 4: 'helmet_on', 5: 'helmet_off'}\n"
          ]
        }
      ]
    }
  ]
}